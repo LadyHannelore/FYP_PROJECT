{
 "cells": [
  {
   "cell_type": "code",
   "execution_count": 6,
   "metadata": {
    "pycharm": {
     "name": "#%%\n"
    }
   },
   "outputs": [
    {
     "name": "stdout",
     "output_type": "stream",
     "text": [
      "Requirement already satisfied: opencv-python in c:\\users\\umer\\.conda\\envs\\fyp\\lib\\site-packages (4.6.0.66)\n",
      "Requirement already satisfied: matplotlib in c:\\users\\umer\\.conda\\envs\\fyp\\lib\\site-packages (3.5.3)\n",
      "Requirement already satisfied: pandas in c:\\users\\umer\\.conda\\envs\\fyp\\lib\\site-packages (1.4.4)\n",
      "Requirement already satisfied: numpy>=1.19.3 in c:\\users\\umer\\.conda\\envs\\fyp\\lib\\site-packages (from opencv-python) (1.21.5)\n",
      "Requirement already satisfied: python-dateutil>=2.7 in c:\\users\\umer\\.conda\\envs\\fyp\\lib\\site-packages (from matplotlib) (2.8.2)\n",
      "Requirement already satisfied: kiwisolver>=1.0.1 in c:\\users\\umer\\.conda\\envs\\fyp\\lib\\site-packages (from matplotlib) (1.4.2)\n",
      "Requirement already satisfied: packaging>=20.0 in c:\\users\\umer\\.conda\\envs\\fyp\\lib\\site-packages (from matplotlib) (21.3)\n",
      "Requirement already satisfied: pillow>=6.2.0 in c:\\users\\umer\\.conda\\envs\\fyp\\lib\\site-packages (from matplotlib) (9.2.0)\n",
      "Requirement already satisfied: pyparsing>=2.2.1 in c:\\users\\umer\\.conda\\envs\\fyp\\lib\\site-packages (from matplotlib) (3.0.9)\n",
      "Requirement already satisfied: cycler>=0.10 in c:\\users\\umer\\.conda\\envs\\fyp\\lib\\site-packages (from matplotlib) (0.11.0)\n",
      "Requirement already satisfied: fonttools>=4.22.0 in c:\\users\\umer\\.conda\\envs\\fyp\\lib\\site-packages (from matplotlib) (4.25.0)\n",
      "Requirement already satisfied: pytz>=2020.1 in c:\\users\\umer\\.conda\\envs\\fyp\\lib\\site-packages (from pandas) (2022.1)\n",
      "Requirement already satisfied: six>=1.5 in c:\\users\\umer\\.conda\\envs\\fyp\\lib\\site-packages (from python-dateutil>=2.7->matplotlib) (1.16.0)\n",
      "Note: you may need to restart the kernel to use updated packages.\n"
     ]
    },
    {
     "name": "stderr",
     "output_type": "stream",
     "text": [
      "WARNING: Ignoring invalid distribution -ensorflow-gpu (c:\\users\\umer\\.conda\\envs\\fyp\\lib\\site-packages)\n",
      "WARNING: Ignoring invalid distribution -ensorflow-gpu (c:\\users\\umer\\.conda\\envs\\fyp\\lib\\site-packages)\n",
      "WARNING: Ignoring invalid distribution -ensorflow-gpu (c:\\users\\umer\\.conda\\envs\\fyp\\lib\\site-packages)\n",
      "WARNING: Ignoring invalid distribution -ensorflow-gpu (c:\\users\\umer\\.conda\\envs\\fyp\\lib\\site-packages)\n",
      "WARNING: Ignoring invalid distribution -ensorflow-gpu (c:\\users\\umer\\.conda\\envs\\fyp\\lib\\site-packages)\n",
      "WARNING: Ignoring invalid distribution -ensorflow-gpu (c:\\users\\umer\\.conda\\envs\\fyp\\lib\\site-packages)\n"
     ]
    }
   ],
   "source": [
    "%pip install opencv-python matplotlib pandas"
   ]
  },
  {
   "cell_type": "code",
   "execution_count": 7,
   "metadata": {
    "pycharm": {
     "name": "#%%\n"
    }
   },
   "outputs": [],
   "source": [
    "import platform\n",
    "platform.architecture()\n",
    "import tensorflow as tf"
   ]
  },
  {
   "cell_type": "code",
   "execution_count": 8,
   "metadata": {
    "pycharm": {
     "name": "#%%\n"
    }
   },
   "outputs": [
    {
     "name": "stdout",
     "output_type": "stream",
     "text": [
      "[PhysicalDevice(name='/physical_device:GPU:0', device_type='GPU')]\n",
      "True\n",
      "True\n",
      "True\n"
     ]
    }
   ],
   "source": [
    "\n",
    "gpu_available = tf.test.is_gpu_available()\n",
    "is_cuda_gpu_available = tf.test.is_gpu_available(cuda_only=True)\n",
    "is_cuda_gpu_min_3 = tf.test.is_gpu_available(True, (3,0))\n",
    "print(tf.config.list_physical_devices('GPU'))\n",
    "print(gpu_available)\n",
    "print(is_cuda_gpu_available)\n",
    "print(is_cuda_gpu_min_3)"
   ]
  },
  {
   "cell_type": "markdown",
   "metadata": {},
   "source": [
    "GPU Tester code"
   ]
  },
  {
   "cell_type": "code",
   "execution_count": 9,
   "metadata": {},
   "outputs": [
    {
     "name": "stdout",
     "output_type": "stream",
     "text": [
      "step: 100, loss: 0.352927, accuracy: 0.904297\n",
      "step: 200, loss: 0.319384, accuracy: 0.898438\n",
      "step: 300, loss: 0.285492, accuracy: 0.914062\n",
      "step: 400, loss: 0.223011, accuracy: 0.937500\n",
      "step: 500, loss: 0.222677, accuracy: 0.931641\n",
      "step: 600, loss: 0.207211, accuracy: 0.937500\n",
      "step: 700, loss: 0.175056, accuracy: 0.945312\n",
      "step: 800, loss: 0.184688, accuracy: 0.939453\n",
      "step: 900, loss: 0.160081, accuracy: 0.962891\n",
      "step: 1000, loss: 0.125403, accuracy: 0.976562\n",
      "step: 1100, loss: 0.136695, accuracy: 0.964844\n",
      "step: 1200, loss: 0.113686, accuracy: 0.968750\n",
      "step: 1300, loss: 0.127752, accuracy: 0.966797\n",
      "step: 1400, loss: 0.163480, accuracy: 0.958984\n",
      "step: 1500, loss: 0.128069, accuracy: 0.960938\n",
      "step: 1600, loss: 0.120057, accuracy: 0.968750\n",
      "step: 1700, loss: 0.120349, accuracy: 0.970703\n",
      "step: 1800, loss: 0.090426, accuracy: 0.976562\n",
      "step: 1900, loss: 0.101767, accuracy: 0.972656\n",
      "step: 2000, loss: 0.085737, accuracy: 0.980469\n",
      "step: 2100, loss: 0.076008, accuracy: 0.986328\n",
      "step: 2200, loss: 0.094400, accuracy: 0.972656\n",
      "step: 2300, loss: 0.054622, accuracy: 0.986328\n",
      "step: 2400, loss: 0.076324, accuracy: 0.982422\n",
      "step: 2500, loss: 0.129790, accuracy: 0.964844\n",
      "step: 2600, loss: 0.067051, accuracy: 0.978516\n",
      "step: 2700, loss: 0.082960, accuracy: 0.986328\n",
      "step: 2800, loss: 0.045500, accuracy: 0.988281\n",
      "step: 2900, loss: 0.055633, accuracy: 0.986328\n",
      "step: 3000, loss: 0.061078, accuracy: 0.988281\n",
      "step: 3100, loss: 0.046440, accuracy: 0.994141\n",
      "step: 3200, loss: 0.049570, accuracy: 0.986328\n",
      "step: 3300, loss: 0.050889, accuracy: 0.984375\n",
      "step: 3400, loss: 0.060328, accuracy: 0.984375\n",
      "step: 3500, loss: 0.053716, accuracy: 0.990234\n",
      "step: 3600, loss: 0.050669, accuracy: 0.984375\n",
      "step: 3700, loss: 0.058784, accuracy: 0.984375\n",
      "step: 3800, loss: 0.057941, accuracy: 0.986328\n",
      "step: 3900, loss: 0.046536, accuracy: 0.990234\n",
      "step: 4000, loss: 0.024398, accuracy: 0.994141\n",
      "step: 4100, loss: 0.034282, accuracy: 0.992188\n",
      "step: 4200, loss: 0.035926, accuracy: 0.990234\n",
      "step: 4300, loss: 0.044689, accuracy: 0.988281\n",
      "step: 4400, loss: 0.039767, accuracy: 0.990234\n",
      "step: 4500, loss: 0.035434, accuracy: 0.992188\n",
      "step: 4600, loss: 0.034375, accuracy: 0.996094\n",
      "step: 4700, loss: 0.022251, accuracy: 0.998047\n",
      "step: 4800, loss: 0.025123, accuracy: 0.994141\n",
      "step: 4900, loss: 0.036397, accuracy: 0.992188\n",
      "step: 5000, loss: 0.054846, accuracy: 0.984375\n",
      "step: 5100, loss: 0.026525, accuracy: 0.990234\n",
      "step: 5200, loss: 0.040334, accuracy: 0.996094\n",
      "step: 5300, loss: 0.023951, accuracy: 0.994141\n",
      "step: 5400, loss: 0.027695, accuracy: 0.994141\n",
      "step: 5500, loss: 0.028529, accuracy: 0.992188\n",
      "step: 5600, loss: 0.037455, accuracy: 0.988281\n",
      "step: 5700, loss: 0.027454, accuracy: 0.992188\n",
      "step: 5800, loss: 0.021611, accuracy: 0.992188\n",
      "step: 5900, loss: 0.022344, accuracy: 0.996094\n",
      "step: 6000, loss: 0.036389, accuracy: 0.996094\n",
      "Test Accuracy: 0.977400\n"
     ]
    }
   ],
   "source": [
    "from __future__ import absolute_import, division, print_function\n",
    "\n",
    "import tensorflow as tf\n",
    "from tensorflow.keras import Model, layers\n",
    "import numpy as np\n",
    "\n",
    "tf.compat.v1.enable_eager_execution()\n",
    "\n",
    "# MNIST dataset parameters.\n",
    "num_classes = 10 # total classes (0-9 digits).\n",
    "num_features = 784 # data features (img shape: 28*28).\n",
    "\n",
    "# Training parameters.\n",
    "learning_rate = 0.1\n",
    "training_steps = 6000\n",
    "batch_size = 512\n",
    "display_step = 100\n",
    "\n",
    "# Network parameters.\n",
    "n_hidden_1 = 128 # 1st layer number of neurons.\n",
    "n_hidden_2 = 256 # 2nd layer number of neurons.\n",
    "\n",
    "# Prepare MNIST data.\n",
    "from tensorflow.keras.datasets import mnist\n",
    "(x_train, y_train), (x_test, y_test) = mnist.load_data()\n",
    "# Convert to float32.\n",
    "x_train, x_test = np.array(x_train, np.float32), np.array(x_test, np.float32)\n",
    "# Flatten images to 1-D vector of 784 features (28*28).\n",
    "x_train, x_test = x_train.reshape([-1, num_features]), x_test.reshape([-1, num_features])\n",
    "# Normalize images value from [0, 255] to [0, 1].\n",
    "x_train, x_test = x_train / 255., x_test / 255.\n",
    "\n",
    "# Use tf.data API to shuffle and batch data.\n",
    "train_data = tf.data.Dataset.from_tensor_slices((x_train, y_train))\n",
    "train_data = train_data.repeat().shuffle(5000).batch(batch_size).prefetch(1)\n",
    "\n",
    "# Create TF Model.\n",
    "class NeuralNet(Model):\n",
    "    # Set layers.\n",
    "    def __init__(self):\n",
    "        super(NeuralNet, self).__init__()\n",
    "        # First fully-connected hidden layer.\n",
    "        self.fc1 = layers.Dense(n_hidden_1, activation=tf.nn.relu)\n",
    "        # First fully-connected hidden layer.\n",
    "        self.fc2 = layers.Dense(n_hidden_2, activation=tf.nn.relu)\n",
    "        # Second fully-connecter hidden layer.\n",
    "        self.out = layers.Dense(num_classes)\n",
    "\n",
    "    # Set forward pass.\n",
    "    def call(self, x, is_training=False):\n",
    "        x = self.fc1(x)\n",
    "        x = self.fc2(x)\n",
    "        x = self.out(x)\n",
    "        if not is_training:\n",
    "            # tf cross entropy expect logits without softmax, so only\n",
    "            # apply softmax when not training.\n",
    "            x = tf.nn.softmax(x)\n",
    "        return x\n",
    "\n",
    "# Build neural network model.\n",
    "neural_net = NeuralNet()\n",
    "\n",
    "# Cross-Entropy Loss.\n",
    "# Note that this will apply 'softmax' to the logits.\n",
    "def cross_entropy_loss(x, y):\n",
    "    # Convert labels to int 64 for tf cross-entropy function.\n",
    "    y = tf.cast(y, tf.int64)\n",
    "    # Apply softmax to logits and compute cross-entropy.\n",
    "    loss = tf.nn.sparse_softmax_cross_entropy_with_logits(labels=y, logits=x)\n",
    "    # Average loss across the batch.\n",
    "    return tf.reduce_mean(loss)\n",
    "\n",
    "# Accuracy metric.\n",
    "def accuracy(y_pred, y_true):\n",
    "    # Predicted class is the index of highest score in prediction vector (i.e. argmax).\n",
    "    correct_prediction = tf.equal(tf.argmax(y_pred, 1), tf.cast(y_true, tf.int64))\n",
    "    return tf.reduce_mean(tf.cast(correct_prediction, tf.float32), axis=-1)\n",
    "\n",
    "# Stochastic gradient descent optimizer.\n",
    "optimizer = tf.keras.optimizers.SGD(learning_rate)\n",
    "\n",
    "# Optimization process. \n",
    "def run_optimization(x, y):\n",
    "    # Wrap computation inside a GradientTape for automatic differentiation.\n",
    "    with tf.GradientTape() as g:\n",
    "        # Forward pass.\n",
    "        pred = neural_net(x, is_training=True)\n",
    "        # Compute loss.\n",
    "        loss = cross_entropy_loss(pred, y)\n",
    "        \n",
    "    # Variables to update, i.e. trainable variables.\n",
    "    trainable_variables = neural_net.trainable_variables\n",
    "\n",
    "    # Compute gradients.\n",
    "    gradients = g.gradient(loss, trainable_variables)\n",
    "    \n",
    "    # Update W and b following gradients.\n",
    "    optimizer.apply_gradients(zip(gradients, trainable_variables))\n",
    "\n",
    "# Run training for the given number of steps.\n",
    "for step, (batch_x, batch_y) in enumerate(train_data.take(training_steps), 1):\n",
    "    # Run the optimization to update W and b values.\n",
    "    run_optimization(batch_x, batch_y)\n",
    "    \n",
    "    if step % display_step == 0:\n",
    "        pred = neural_net(batch_x, is_training=True)\n",
    "        loss = cross_entropy_loss(pred, batch_y)\n",
    "        acc = accuracy(pred, batch_y)\n",
    "        print(\"step: %i, loss: %f, accuracy: %f\" % (step, loss, acc))\n",
    "\n",
    "# Test model on validation set.\n",
    "pred = neural_net(x_test, is_training=False)\n",
    "print(\"Test Accuracy: %f\" % accuracy(pred, y_test))"
   ]
  }
 ],
 "metadata": {
  "kernelspec": {
   "display_name": "Python 3 (ipykernel)",
   "language": "python",
   "name": "python3"
  },
  "language_info": {
   "codemirror_mode": {
    "name": "ipython",
    "version": 3
   },
   "file_extension": ".py",
   "mimetype": "text/x-python",
   "name": "python",
   "nbconvert_exporter": "python",
   "pygments_lexer": "ipython3",
   "version": "3.9.13"
  },
  "vscode": {
   "interpreter": {
    "hash": "a530ab95cce582bf70bc95a4027aee1a6d716964b40576cc9899df131cc74cb7"
   }
  }
 },
 "nbformat": 4,
 "nbformat_minor": 2
}
